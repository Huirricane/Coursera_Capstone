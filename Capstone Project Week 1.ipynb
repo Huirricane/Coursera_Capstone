{
    "cells": [
        {
            "cell_type": "markdown",
            "metadata": {
                "collapsed": true
            },
            "source": "# Capstone Project Week 1 Assignment"
        },
        {
            "cell_type": "markdown",
            "metadata": {},
            "source": "## Battle of the Neighborhoods - A Study of the Guangdong-Hong Kong-Macao Greater Bay Area"
        },
        {
            "cell_type": "markdown",
            "metadata": {},
            "source": "### Introduction"
        },
        {
            "cell_type": "markdown",
            "metadata": {},
            "source": "The Central Government of the People's Republic of China promulgated the Outline Development Plan for the Guangdong-Hong Kong-Macao Greater Bay Area (GBA) in 2019, which sets out the strategic development plan of the GBA with a view to developing an international first-class bay area ideal for living, working and travelling.  The GBA comprises the two Special Administrative Regions of Hong Kong and Macao, and the nine municipalities of Guangzhou, Shenzhen, Zhuhai, Foshan, Huizhou, Dongguan, Zhongshan, Jiangmen and Zhaoqing in Guangdong Province. The total area is around 56 000 km2. At end 2018, the total population is over 71 million, the GDP is USD 1,642.5 billion and GDP per capita is USD 23,342, presenting vast opportunities and prospects for future development.  In the iight of the development potential of the GBA, it would be of utmost importance to understand and harness the unique comparative advantages of each of the regions in order to maximise the synergy between the \"9+2\" cities within the GBA.  Thus, this study undertakes to study the key cities within the GBA to identify the characteristics of individual cities and identify strategic clusters that could inform future collaborations between cities to take forward the mega-GBA development."
        },
        {
            "cell_type": "markdown",
            "metadata": {},
            "source": "### Data"
        },
        {
            "cell_type": "markdown",
            "metadata": {},
            "source": "In addition to the Foursquare location data, this study will also be utilising some demographic statistics obtained from the GBA thematic website maintained by the Government of the Hong Kong Special Administrative Region (https://www.bayarea.gov.hk/), which includes information such as industry structure, GDP, population, area, trade value, etc.  Utilising Foursquare, the study will identify the key venues of each cities in the GBA, by obtaining their longitude and latitude values, specifically those related to economic activities, to identify the more common types of venues in each cities.  In combination with the other demographic data, the study will perform clustering analysis on the citiies to separate the 11 cities in total into 3 clusters, and identify each of their strategic strength area through analysis of their characterstics.  The study will also use the folium map package to demonstrate the clustering \n\n\nIn order to accomplish this goal, latitudes and longitudes of the capital cities of all countries in the world are required. The \"simplemaps.com\" offers a simple, accurate and up-to-date database of the world's cities and their locations. From this data, I need to select the capital cities and using their latitude and longitude values, I need to explore the venues with \"art\" section around these cities by utilizing Foursquare API.\n\nThe \"simplemap\" data contains city name, corresponding latitude, longitude and country name along with many other features for all cities in the world. I only use the features that I mentioned in this data and then filtered the capital cities for each country. After cleaning the data I have 225 countries with 225 capital cities.\n\nThen I used the acquired location data to explore the nearby art venues from the Foursquare API. Using the \"explore\" option, I look for top 25 art venues in 10 km radius for each city center and I get \"Venue\", \"Venue Latitude\", \"Venue Longitude\" and \"Venue Category\" columns with 3316 row in total."
        }
    ],
    "metadata": {
        "kernelspec": {
            "display_name": "Python 3.6",
            "language": "python",
            "name": "python3"
        },
        "language_info": {
            "codemirror_mode": {
                "name": "ipython",
                "version": 3
            },
            "file_extension": ".py",
            "mimetype": "text/x-python",
            "name": "python",
            "nbconvert_exporter": "python",
            "pygments_lexer": "ipython3",
            "version": "3.6.9"
        }
    },
    "nbformat": 4,
    "nbformat_minor": 1
}